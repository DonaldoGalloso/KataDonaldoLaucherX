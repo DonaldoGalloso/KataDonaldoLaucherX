{
 "cells": [
  {
   "cell_type": "markdown",
   "metadata": {},
   "source": [
    "Ejercicio #1"
   ]
  },
  {
   "cell_type": "code",
   "execution_count": 1,
   "metadata": {},
   "outputs": [
    {
     "name": "stdout",
     "output_type": "stream",
     "text": [
      "El asteroide se acerca demasiado Rápido \n"
     ]
    }
   ],
   "source": [
    "asteroide = 49\n",
    "\n",
    "if asteroide > 25:\n",
    "    print(\"El asteroide se acerca demasiado Rápido \")\n",
    "else:\n",
    "    print(\"el asteroide no excede los limites de velocidad\")"
   ]
  },
  {
   "cell_type": "markdown",
   "metadata": {},
   "source": [
    "Ejercicio #2"
   ]
  },
  {
   "cell_type": "code",
   "execution_count": 2,
   "metadata": {},
   "outputs": [
    {
     "name": "stdout",
     "output_type": "stream",
     "text": [
      "sigue con tu día\n"
     ]
    }
   ],
   "source": [
    "asteroide = 19\n",
    "\n",
    "if asteroide > 20:\n",
    "    print(\"mira al cielo es un asteroide\")\n",
    "elif asteroide == 20:\n",
    "    print(\"mira al cielo es un asteroide\")\n",
    "else:\n",
    "    print(\"sigue con tu día\")"
   ]
  },
  {
   "cell_type": "markdown",
   "metadata": {},
   "source": [
    " ejercicio #3"
   ]
  },
  {
   "cell_type": "code",
   "execution_count": 4,
   "metadata": {},
   "outputs": [
    {
     "name": "stdout",
     "output_type": "stream",
     "text": [
      "el asteroide no representa una amenaza\n"
     ]
    }
   ],
   "source": [
    "v_asteroide = 30\n",
    "d_asteroide = 20\n",
    "\n",
    "if v_asteroide >25 and d_asteroide > 25:\n",
    "    print(\"alerta asteroide peligroso se acerca a la tierra\")\n",
    "elif v_asteroide <25 or d_asteroide < 25:\n",
    "    print(\"el asteroide no representa una amenaza\")\n",
    "elif v_asteroide >=20:\n",
    "    print(\"mira el cielo es un asteroide\")"
   ]
  }
 ],
 "metadata": {
  "interpreter": {
   "hash": "75373c02ecaebfe632c8d3a04664f4174c8d4c9c359bd6c5a822ca1e04db8834"
  },
  "kernelspec": {
   "display_name": "Python 3.10.2 ('env': venv)",
   "language": "python",
   "name": "python3"
  },
  "language_info": {
   "codemirror_mode": {
    "name": "ipython",
    "version": 3
   },
   "file_extension": ".py",
   "mimetype": "text/x-python",
   "name": "python",
   "nbconvert_exporter": "python",
   "pygments_lexer": "ipython3",
   "version": "3.10.2"
  },
  "orig_nbformat": 4
 },
 "nbformat": 4,
 "nbformat_minor": 2
}
