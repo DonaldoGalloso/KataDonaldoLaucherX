{
 "cells": [
  {
   "cell_type": "markdown",
   "metadata": {},
   "source": [
    "# ejercicio #1 crear y usar listas en python"
   ]
  },
  {
   "cell_type": "code",
   "execution_count": 4,
   "metadata": {},
   "outputs": [
    {
     "name": "stdout",
     "output_type": "stream",
     "text": [
      "8\n",
      "Plutón\n"
     ]
    }
   ],
   "source": [
    "Planetas = [\"Mercurio\",\"Venus\",\"Tierra\",\"Marte\",\"Jupiter\",\"Saturno\",\"Urano\",\"Neptuno\"]\n",
    "print(len(Planetas))\n",
    "Planetas.append(\"Plutón\")\n",
    "print(Planetas[-1])"
   ]
  },
  {
   "cell_type": "markdown",
   "metadata": {},
   "source": [
    " # Ejercicio #2 Trabajando con datos de una lista"
   ]
  },
  {
   "cell_type": "code",
   "execution_count": 7,
   "metadata": {},
   "outputs": [
    {
     "name": "stdout",
     "output_type": "stream",
     "text": [
      "2\n",
      "['Mercury', 'Venus']\n",
      "['Mars', 'Jupiter', 'Saturn', 'Neptune']\n"
     ]
    }
   ],
   "source": [
    "planets = ['Mercury', 'Venus', 'Earth', 'Mars', 'Jupiter', 'Saturn', 'Neptune']\n",
    "\n",
    "nuevoPlaneta = input(\"ingresa un planeta pero no olvides que debe empezar en Mayuscula\");\n",
    "numeroPlaneta = planets.index(nuevoPlaneta) + 1\n",
    "print(numeroPlaneta)\n",
    "\n",
    "print(planets[0:numeroPlaneta])\n",
    "\n",
    "print(planets[numeroPlaneta + 1:])"
   ]
  }
 ],
 "metadata": {
  "interpreter": {
   "hash": "75373c02ecaebfe632c8d3a04664f4174c8d4c9c359bd6c5a822ca1e04db8834"
  },
  "kernelspec": {
   "display_name": "Python 3.10.2 ('env': venv)",
   "language": "python",
   "name": "python3"
  },
  "language_info": {
   "codemirror_mode": {
    "name": "ipython",
    "version": 3
   },
   "file_extension": ".py",
   "mimetype": "text/x-python",
   "name": "python",
   "nbconvert_exporter": "python",
   "pygments_lexer": "ipython3",
   "version": "3.10.2"
  },
  "orig_nbformat": 4
 },
 "nbformat": 4,
 "nbformat_minor": 2
}
