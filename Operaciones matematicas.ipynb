{
 "cells": [
  {
   "cell_type": "markdown",
   "metadata": {},
   "source": [
    "# Ejercicio  #1 Utilizar operadores aritméticos"
   ]
  },
  {
   "cell_type": "code",
   "execution_count": 10,
   "metadata": {},
   "outputs": [
    {
     "name": "stdout",
     "output_type": "stream",
     "text": [
      "628949330\n",
      "390577533.93\n"
     ]
    }
   ],
   "source": [
    "tierra = 149597870\n",
    "jupiter = 778547200\n",
    "\n",
    "k_dist = abs(tierra - jupiter)\n",
    "\n",
    "m_dist = k_dist * 0.621\n",
    "\n",
    "print(k_dist)\n",
    "print(m_dist)"
   ]
  },
  {
   "cell_type": "markdown",
   "metadata": {},
   "source": [
    "#ejercicio #2 Convierte cadenas en números y usa valores absolutos"
   ]
  },
  {
   "cell_type": "code",
   "execution_count": 3,
   "metadata": {},
   "outputs": [
    {
     "name": "stdout",
     "output_type": "stream",
     "text": [
      "2814600000\n",
      "1747866600.0\n"
     ]
    }
   ],
   "source": [
    "planetaUno = int(input(\"cual es la distancia del primer planeta al sol?\"))\n",
    "planetaDos = int(input(\"cual es la distancia del segundo planeta al sol?\"))\n",
    "\n",
    "k_dist= abs(planetaUno -planetaDos)\n",
    "\n",
    "m_dist = k_dist * 0.621\n",
    "\n",
    "print(k_dist)\n",
    "print(m_dist)"
   ]
  }
 ],
 "metadata": {
  "interpreter": {
   "hash": "75373c02ecaebfe632c8d3a04664f4174c8d4c9c359bd6c5a822ca1e04db8834"
  },
  "kernelspec": {
   "display_name": "Python 3.10.2 ('env': venv)",
   "language": "python",
   "name": "python3"
  },
  "language_info": {
   "codemirror_mode": {
    "name": "ipython",
    "version": 3
   },
   "file_extension": ".py",
   "mimetype": "text/x-python",
   "name": "python",
   "nbconvert_exporter": "python",
   "pygments_lexer": "ipython3",
   "version": "3.10.2"
  },
  "orig_nbformat": 4
 },
 "nbformat": 4,
 "nbformat_minor": 2
}
